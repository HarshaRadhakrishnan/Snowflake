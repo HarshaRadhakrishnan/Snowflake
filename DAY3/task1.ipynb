{
 "cells": [
  {
   "cell_type": "code",
   "execution_count": 0,
   "metadata": {
    "application/vnd.databricks.v1+cell": {
     "cellMetadata": {
      "byteLimit": 2048000,
      "rowLimit": 10000
     },
     "inputWidgets": {},
     "nuid": "3dd3b7b0-1272-419a-890a-0a1a9351723e",
     "showTitle": false,
     "tableResultSettingsMap": {},
     "title": ""
    }
   },
   "outputs": [],
   "source": [
    "sfOptions = {\n",
    "    \"sfURL\": \"EBDQDYC-NB21316.snowflakecomputing.com\",\n",
    "    \"sfDatabase\": \"MY_PRACTICE_DB\",\n",
    "    \"sfSchema\": \"MY_SCHEMA1\",\n",
    "    \"sfWarehouse\": \"COMPUTE_WH\",\n",
    "    \"sfRole\": \"ACCOUNTADMIN\",\n",
    "    \"sfUser\": \"HARSHA\",\n",
    "    \"sfPassword\": \"HarshaRadhakrishnan02\"\n",
    "}\n"
   ]
  },
  {
   "cell_type": "code",
   "execution_count": 0,
   "metadata": {
    "application/vnd.databricks.v1+cell": {
     "cellMetadata": {
      "byteLimit": 2048000,
      "rowLimit": 10000
     },
     "inputWidgets": {},
     "nuid": "3a2f6179-0b6b-44f2-a2b3-b137c88ed89d",
     "showTitle": false,
     "tableResultSettingsMap": {},
     "title": ""
    }
   },
   "outputs": [
    {
     "output_type": "stream",
     "name": "stdout",
     "output_type": "stream",
     "text": [
      "+----------+------------+----------+-----+----------+\n|STUDENT_ID|STUDENT_NAME|DEPARTMENT|MARKS|      CITY|\n+----------+------------+----------+-----+----------+\n|         1|      Harsha|       CSE|   85|   Chennai|\n|         2|  Dhanushika|       ECE|   78|Coimbatore|\n|         3|      Sakthi|        IT|   92|   Madurai|\n|         4| Tanushmitha|       EEE|   68|    Trichy|\n|         5|       Kavin|       CSE|   74|     Salem|\n|         6|      Ananya|        IT|   88|   Chennai|\n|         7|     Vignesh|       ECE|   95|   Madurai|\n|         8|       Priya|       EEE|   80|    Trichy|\n+----------+------------+----------+-----+----------+\n\n"
     ]
    }
   ],
   "source": [
    "students_df = spark.read \\\n",
    "    .format(\"snowflake\") \\\n",
    "    .options(**sfOptions) \\\n",
    "    .option(\"dbtable\", \"students_details\") \\\n",
    "    .load()\n",
    "\n",
    "students_df.show()"
   ]
  },
  {
   "cell_type": "code",
   "execution_count": 0,
   "metadata": {
    "application/vnd.databricks.v1+cell": {
     "cellMetadata": {
      "byteLimit": 2048000,
      "rowLimit": 10000
     },
     "inputWidgets": {},
     "nuid": "c0d8c535-49cc-466f-ac86-047d31fc8d0f",
     "showTitle": false,
     "tableResultSettingsMap": {},
     "title": ""
    }
   },
   "outputs": [
    {
     "output_type": "stream",
     "name": "stdout",
     "output_type": "stream",
     "text": [
      "+----------+------------+----------+-----+----------+-----+\n|STUDENT_ID|STUDENT_NAME|DEPARTMENT|MARKS|      CITY|grade|\n+----------+------------+----------+-----+----------+-----+\n|         1|      Harsha|       CSE|   85|   Chennai|    B|\n|         2|  Dhanushika|       ECE|   78|Coimbatore|    C|\n|         3|      Sakthi|        IT|   92|   Madurai|    A|\n|         4| Tanushmitha|       EEE|   68|    Trichy|    D|\n|         5|       Kavin|       CSE|   74|     Salem|    C|\n|         6|      Ananya|        IT|   88|   Chennai|    B|\n|         7|     Vignesh|       ECE|   95|   Madurai|    A|\n|         8|       Priya|       EEE|   80|    Trichy|    B|\n+----------+------------+----------+-----+----------+-----+\n\n"
     ]
    }
   ],
   "source": [
    "from pyspark.sql.functions import when, col\n",
    "\n",
    "students_with_grade = students_df.withColumn(\n",
    "    \"grade\",\n",
    "    when(col(\"marks\") >= 90, \"A\")\n",
    "    .when((col(\"marks\") >= 80) & (col(\"marks\") < 90), \"B\")\n",
    "    .when((col(\"marks\") >= 70) & (col(\"marks\") < 80), \"C\")\n",
    "    .otherwise(\"D\")\n",
    ")\n",
    "\n",
    "students_with_grade.show()"
   ]
  },
  {
   "cell_type": "code",
   "execution_count": 0,
   "metadata": {
    "application/vnd.databricks.v1+cell": {
     "cellMetadata": {
      "byteLimit": 2048000,
      "rowLimit": 10000
     },
     "inputWidgets": {},
     "nuid": "98ee7bdc-2cff-486f-a1ba-ebb714e6ab26",
     "showTitle": false,
     "tableResultSettingsMap": {},
     "title": ""
    }
   },
   "outputs": [],
   "source": [
    "students_with_grade.write \\\n",
    "    .format(\"snowflake\") \\\n",
    "    .options(**sfOptions) \\\n",
    "    .option(\"dbtable\", \"students_details_with_grade\") \\\n",
    "    .mode(\"overwrite\") \\\n",
    "    .save()"
   ]
  },
  {
   "cell_type": "code",
   "execution_count": 0,
   "metadata": {
    "application/vnd.databricks.v1+cell": {
     "cellMetadata": {
      "byteLimit": 2048000,
      "rowLimit": 10000
     },
     "inputWidgets": {},
     "nuid": "3de5e032-4960-471c-a37e-53fdc85e704f",
     "showTitle": false,
     "tableResultSettingsMap": {},
     "title": ""
    }
   },
   "outputs": [
    {
     "output_type": "stream",
     "name": "stdout",
     "output_type": "stream",
     "text": [
      "+-----+------------+\n|grade|num_students|\n+-----+------------+\n|    B|           3|\n|    D|           1|\n|    C|           2|\n|    A|           2|\n+-----+------------+\n\n"
     ]
    }
   ],
   "source": [
    "grade_count_df = students_with_grade.groupBy(\"grade\").count().withColumnRenamed(\"count\", \"num_students\")\n",
    "grade_count_df.show()"
   ]
  },
  {
   "cell_type": "code",
   "execution_count": 0,
   "metadata": {
    "application/vnd.databricks.v1+cell": {
     "cellMetadata": {
      "byteLimit": 2048000,
      "rowLimit": 10000
     },
     "inputWidgets": {},
     "nuid": "53611c8a-5625-432f-a77a-59eb39f18195",
     "showTitle": false,
     "tableResultSettingsMap": {},
     "title": ""
    }
   },
   "outputs": [],
   "source": [
    "grade_count_df.write \\\n",
    "    .format(\"snowflake\") \\\n",
    "    .options(**sfOptions) \\\n",
    "    .option(\"dbtable\", \"students_grade_count\") \\\n",
    "    .mode(\"overwrite\") \\\n",
    "    .save()"
   ]
  }
 ],
 "metadata": {
  "application/vnd.databricks.v1+notebook": {
   "computePreferences": null,
   "dashboards": [],
   "environmentMetadata": {
    "base_environment": "",
    "environment_version": "4"
   },
   "inputWidgetPreferences": null,
   "language": "python",
   "notebookMetadata": {
    "pythonIndentUnit": 4
   },
   "notebookName": "task1",
   "widgets": {}
  },
  "language_info": {
   "name": "python"
  }
 },
 "nbformat": 4,
 "nbformat_minor": 0
}